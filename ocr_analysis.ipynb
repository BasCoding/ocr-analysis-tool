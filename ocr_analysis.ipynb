{
 "cells": [
  {
   "cell_type": "markdown",
   "metadata": {},
   "source": [
    "# OCR Analysis\n",
    "In this notebook we analyze the OCR data that we receive from the Azure Document Intelligence service."
   ]
  },
  {
   "cell_type": "code",
   "execution_count": 6,
   "metadata": {},
   "outputs": [],
   "source": [
    "import os\n",
    "import json\n",
    "import matplotlib.pyplot as plt\n",
    "from ocr_analysis_tool.draw_boxes import *"
   ]
  },
  {
   "cell_type": "code",
   "execution_count": null,
   "metadata": {},
   "outputs": [],
   "source": [
    "# Inspect the JSON file to understand its structure\n",
    "# Load JSON data\n",
    "json_path = os.path.join(\"data\", \"ASA06D.json\")\n",
    "with open(json_path, 'r') as file:\n",
    "    json_data = json.load(file)\n",
    "\n",
    "# Displaying the structure of the JSON file to understand its format\n",
    "print(type(json_data))\n",
    "print(list(json_data.keys())[:5])  # Show the type and the first few keys"
   ]
  },
  {
   "cell_type": "code",
   "execution_count": null,
   "metadata": {},
   "outputs": [],
   "source": [
    "# Inspecting the contents of a few entries to understand how bounding boxes are stored\n",
    "sample_keys = list(json_data.keys())[:5]\n",
    "sample_values = {key: json_data[key] for key in sample_keys}\n",
    "print(sample_values)"
   ]
  },
  {
   "cell_type": "code",
   "execution_count": null,
   "metadata": {},
   "outputs": [],
   "source": [
    "with open(json_path, 'r') as file:\n",
    "    full_json = json.load(file)\n",
    "\n",
    "pdf_path = os.path.join(\"data\", \"ASA06D.PDF\")\n",
    "# Draw bounding boxes on the PDF and get images\n",
    "pdf_images_with_boxes = draw_bounding_boxes_on_pdf(pdf_path, full_json)\n",
    "\n",
    "# with open(os.path.join('ASA06D.png'),\"wb\") as fi:\n",
    "#     pdf_images_with_boxes[0].save(fi)\n",
    "\n",
    "# Display the first modified page image\n",
    "plt.figure(figsize=[8.3,11.7])\n",
    "plt.imshow(pdf_images_with_boxes[0])\n",
    "plt.axis('off')\n",
    "plt.show()"
   ]
  },
  {
   "cell_type": "markdown",
   "metadata": {},
   "source": [
    "Now same for key value pairs"
   ]
  },
  {
   "cell_type": "code",
   "execution_count": null,
   "metadata": {},
   "outputs": [],
   "source": [
    "pdf_images_with_boxes = draw_bounding_boxes_on_pdf(pdf_path, kv_data=full_json['keyValuePairs'])\n",
    "\n",
    "plt.figure(figsize=[8.3,11.7])\n",
    "plt.imshow(pdf_images_with_boxes[0])\n",
    "plt.axis('off')\n",
    "plt.show()"
   ]
  }
 ],
 "metadata": {
  "kernelspec": {
   "display_name": "ocr-analysis-tool-y-IEsPVA-py3.11",
   "language": "python",
   "name": "python3"
  },
  "language_info": {
   "codemirror_mode": {
    "name": "ipython",
    "version": 3
   },
   "file_extension": ".py",
   "mimetype": "text/x-python",
   "name": "python",
   "nbconvert_exporter": "python",
   "pygments_lexer": "ipython3",
   "version": "3.11.11"
  }
 },
 "nbformat": 4,
 "nbformat_minor": 2
}
